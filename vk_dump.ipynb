{
 "cells": [
  {
   "cell_type": "code",
   "execution_count": null,
   "metadata": {},
   "outputs": [],
   "source": [
    "from auth import app_id, user_login, user_password\n",
    "import vk\n",
    "\n",
    "class ApiConnection:\n",
    "    \n",
    "    def __init__(self, _app_id=app_id, _user_login=user_login, _user_password=user_password):\n",
    "        self._app_id = _app_id\n",
    "        self._user_login = _user_login\n",
    "        self._user_password = _user_password\n",
    "        \n",
    "    def get_api(self):       \n",
    "        session = vk.AuthSession(self._app_id, \n",
    "                                 self._user_login, \n",
    "                                 self._user_password, \n",
    "                                 scope='messages')\n",
    "        return vk.API(session)\n",
    "    \n",
    "vk_api = ApiConnection().get_api()"
   ]
  },
  {
   "cell_type": "code",
   "execution_count": null,
   "metadata": {},
   "outputs": [],
   "source": [
    "def add_message_to_db(message):\n",
    "    print (message)\n",
    "    print (\"++++++++++\")\n",
    "    \n",
    "def messages_generator(dialog_id, step=100):\n",
    "    offset = 0\n",
    "    hist = vk_api.messages.getHistory(peer_id=str(dialog_id), user_id=my_id, count=step, offset=offset)\n",
    "    while len(hist['items']) > 0:\n",
    "        for item in hist['items']:  \n",
    "            yield item  \n",
    "        offset += step\n",
    "\n",
    "        hist = vk_api.messages.getHistory(peer_id=str(dialog_id), user_id=my_id, count=step, offset=offset)    "
   ]
  },
  {
   "cell_type": "code",
   "execution_count": null,
   "metadata": {},
   "outputs": [],
   "source": [
    "def dialogs_generator(step=100):\n",
    "    offset = 0\n",
    "    diags = vk_api.messages.getDialogs(offset=offset, count=step)\n",
    "    while len(diags['items']) > 0:\n",
    "        for item in diags['items']:  \n",
    "            try:\n",
    "                yield 2000000000 + item['message']['chat_id']\n",
    "            except KeyError as e:\n",
    "                if 'chat_id' in e.args:\n",
    "                    yield item['message']['user_id']\n",
    "                else:\n",
    "                    raise\n",
    "            except:\n",
    "                raise\n",
    "        offset += step\n",
    "        diags = vk_api.messages.getDialogs(offset=offset, count=step)"
   ]
  },
  {
   "cell_type": "code",
   "execution_count": null,
   "metadata": {},
   "outputs": [],
   "source": [
    "import time\n",
    "d_counter = 1\n",
    "\n",
    "for dialog_id in dialogs_generator(1):\n",
    "    time.sleep(1)\n",
    "    if d_counter > 3:\n",
    "        break\n",
    "    d_counter += 1\n",
    "    m_counter = 1\n",
    "    for message in messages_generator(dialog_id=dialog_id, step=1):\n",
    "        if m_counter > 3:\n",
    "            break\n",
    "        m_counter += 1\n",
    "        add_message_to_db(message)"
   ]
  }
 ],
 "metadata": {
  "kernelspec": {
   "display_name": "Python 3",
   "language": "python",
   "name": "python3"
  },
  "language_info": {
   "codemirror_mode": {
    "name": "ipython",
    "version": 3
   },
   "file_extension": ".py",
   "mimetype": "text/x-python",
   "name": "python",
   "nbconvert_exporter": "python",
   "pygments_lexer": "ipython3",
   "version": "3.5.2"
  }
 },
 "nbformat": 4,
 "nbformat_minor": 2
}
