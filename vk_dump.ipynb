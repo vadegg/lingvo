{
 "cells": [
  {
   "cell_type": "code",
   "execution_count": 57,
   "metadata": {},
   "outputs": [],
   "source": [
    "from auth import app_id, user_login, user_password, my_id\n",
    "import vk\n",
    "\n",
    "class ApiConnection:\n",
    "    \n",
    "    def __init__(self, _app_id=app_id, _user_login=user_login, _user_password=user_password):\n",
    "        self._app_id = _app_id\n",
    "        self._user_login = _user_login\n",
    "        self._user_password = _user_password\n",
    "        \n",
    "    def get_api(self):       \n",
    "        session = vk.AuthSession(self._app_id, \n",
    "                                 self._user_login, \n",
    "                                 self._user_password, \n",
    "                                 scope='messages')\n",
    "        return vk.API(session)\n",
    "    \n"
   ]
  },
  {
   "cell_type": "code",
   "execution_count": 58,
   "metadata": {},
   "outputs": [],
   "source": [
    "def messages_generator(dialog_id, step=100):\n",
    "    offset = 0\n",
    "    hist = vk_api.messages.getHistory(peer_id=str(dialog_id), user_id=my_id, count=step, offset=offset, v='5.68')\n",
    "    while len(hist['items']) > 0:\n",
    "        for item in hist['items']:  \n",
    "            yield item  \n",
    "        offset += step\n",
    "\n",
    "        hist = vk_api.messages.getHistory(peer_id=str(dialog_id), user_id=my_id, count=step, offset=offset, v='5.68')    "
   ]
  },
  {
   "cell_type": "code",
   "execution_count": 59,
   "metadata": {},
   "outputs": [],
   "source": [
    "def dialogs_generator(step=100):\n",
    "    offset = 0\n",
    "    diags = vk_api.messages.getDialogs(offset=offset, count=step, v='5.68')\n",
    "    while len(diags['items']) > 0:\n",
    "        for item in diags['items']:  \n",
    "            try:\n",
    "                yield 2000000000 + item['message']['chat_id']\n",
    "            except KeyError as e:\n",
    "                if 'chat_id' in e.args:\n",
    "                    yield item['message']['user_id']\n",
    "                else:\n",
    "                    raise\n",
    "            except:\n",
    "                raise\n",
    "        offset += step\n",
    "        diags = vk_api.messages.getDialogs(offset=offset, count=step, v='5.68')"
   ]
  },
  {
   "cell_type": "code",
   "execution_count": 62,
   "metadata": {},
   "outputs": [],
   "source": [
    "import time\n",
    "def get_dialogs_number(step=200):\n",
    "    offset = 0\n",
    "    counter = 0\n",
    "    curr_len = len(vk_api.messages.getDialogs(offset=offset, count=step, v='5.68')['items'])\n",
    "    while  curr_len > 0:\n",
    "        time.sleep(0.1)\n",
    "        counter += curr_len\n",
    "        curr_len = len(vk_api.messages.getDialogs(offset=offset, count=step, v='5.68')['items'])\n",
    "        offset += step\n",
    "\n",
    "    return counter\n",
    "        "
   ]
  },
  {
   "cell_type": "code",
   "execution_count": null,
   "metadata": {},
   "outputs": [
    {
     "name": "stdout",
     "output_type": "stream",
     "text": [
      "\r",
      "Proceed: 5 of 1219\n"
     ]
    }
   ],
   "source": [
    "import time\n",
    "import os\n",
    "import pandas as pd\n",
    "\n",
    "finished = False\n",
    "\n",
    "while not finished:\n",
    "    try:\n",
    "        vk_api = ApiConnection().get_api()\n",
    "        processed_chats = [int(f.split('_')[0]) for f in os.listdir('data')]\n",
    "        counter = 0\n",
    "        diags_number = get_dialogs_number()\n",
    "\n",
    "        for dialog_id in dialogs_generator(200):\n",
    "            counter += 1\n",
    "            if dialog_id in processed_chats:\n",
    "                continue\n",
    "            df = pd.DataFrame()\n",
    "            for message in messages_generator(dialog_id=dialog_id, step=200):\n",
    "                df = pd.concat([df, pd.DataFrame(\n",
    "                    {k: (lambda x: str(x) if type(x) == type([]) else x)(v) for k, v in message.items()}\n",
    "                    , index=[0])], ignore_index=True)\n",
    "            df.to_csv(os.path.join(\"data\", str(dialog_id) + \"_chat.csv\"))\n",
    "            print(\"\\rProceed: {} of {}\".format(counter, diags_number))\n",
    "            \n",
    "        finished = True\n",
    "    except e:\n",
    "        print (\"AAAA: \", e)\n",
    "    \n",
    "print()"
   ]
  },
  {
   "cell_type": "code",
   "execution_count": null,
   "metadata": {},
   "outputs": [],
   "source": []
  }
 ],
 "metadata": {
  "kernelspec": {
   "display_name": "Python 3",
   "language": "python",
   "name": "python3"
  },
  "language_info": {
   "codemirror_mode": {
    "name": "ipython",
    "version": 3
   },
   "file_extension": ".py",
   "mimetype": "text/x-python",
   "name": "python",
   "nbconvert_exporter": "python",
   "pygments_lexer": "ipython3",
   "version": "3.5.2"
  }
 },
 "nbformat": 4,
 "nbformat_minor": 2
}
